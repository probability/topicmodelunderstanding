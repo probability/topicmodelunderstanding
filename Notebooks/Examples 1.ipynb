{
 "cells": [
  {
   "cell_type": "code",
   "execution_count": 1,
   "metadata": {},
   "outputs": [],
   "source": [
    "import staircase as sc\n",
    "from imports import *\n",
    "import operator\n",
    "import warnings\n",
    "from hotstepper.Utils import Utils\n",
    "import hotstepper.fastbase as fb\n",
    "warnings.filterwarnings(\"ignore\")\n"
   ]
  },
  {
   "cell_type": "code",
   "execution_count": 2,
   "metadata": {},
   "outputs": [
    {
     "output_type": "execute_result",
     "data": {
      "text/plain": [
       "(1229, 3)"
      ]
     },
     "metadata": {},
     "execution_count": 2
    }
   ],
   "source": [
    "df = pd.read_csv(r\"../data/vessel_queue.csv\", parse_dates=['enter', 'leave'], dayfirst=True)\n",
    "vsteps = Steps.read_dataframe(df,'enter','leave')\n",
    "queue = sc.Stairs(use_dates=True).layer(df.enter, df.leave)\n",
    "df.shape\n"
   ]
  },
  {
   "cell_type": "code",
   "execution_count": null,
   "metadata": {},
   "outputs": [],
   "source": [
    "print(len(vsteps.steps()))\n",
    "print(len(vsteps.step_keys()))"
   ]
  },
  {
   "cell_type": "code",
   "execution_count": null,
   "metadata": {},
   "outputs": [],
   "source": [
    "p = np.arange(pd.Timestamp(2020,1,1), pd.Timestamp(2020,12,30), pd.Timedelta(hours=1)).astype(pd.Timestamp)\n",
    "fig,ax = plt.subplots(nrows=5,figsize=(20,16))\n",
    "\n",
    "#vsteps.rebase(tbase)\n",
    "vs_clip4 = vsteps.clip(ubound= pd.Timestamp(2020,1,3))\n",
    "vs_clip = vsteps.clip(lbound= pd.Timestamp(2020,12,11))\n",
    "\n",
    "vsteps.clip(ubound=pd.Timestamp(2020,1,20)).plot(ax=ax[0])\n",
    "#ax[0].step(p,vsteps(p),color='indigo')\n",
    "vsteps_clip_filter = ((vsteps.clip(ubound=pd.Timestamp(2020,1,20)))<<pd.Timedelta(hours=11))\n",
    "vsteps_clip_filter.smooth_plot(ax=ax[0],color='blue',linewidth=4,ts_grain=pd.Timedelta(hours=1))\n",
    "#vsteps_clip_filter.smooth_plot(ax=ax[0],color='blue',linewidth=4,ts_grain=pd.Timedelta(hours=1))\n",
    "#((vsteps.clip(ubound=pd.Timestamp(2020,1,20)))).smooth_plot(ax=ax[0],color='blue',linewidth=4,ts_grain=pd.Timedelta(hours=1))\n",
    "\n",
    "#queue.plot(ax[1])\n",
    "vc = vsteps.clip(lbound=pd.Timestamp(2020,6,5),ubound=pd.Timestamp(2020,6,13))\n",
    "vc.plot(ax=ax[1])\n",
    "vc.normalise().plot(ax=ax[1],color='g')\n",
    "\n",
    "#vc._operate_norm_new(0,operator.ne).plot(ax=ax[1],color='r')\n",
    "\n",
    "\n",
    "vs_clip4.plot(ax=ax[2])\n",
    "\n",
    "vsteps.histogram_plot(ax=ax[3],kind='bar')\n",
    "#vsteps.ecdf_plot(ax=ax[4],kind='bar',fill=False)\n",
    "#(vs_clip4 << pd.Timedelta(hours=12)).smooth_plot(ax=ax[2],color='g')\n",
    "#vs_clip.smooth_plot(ax=ax[2],color='g')\n",
    "# print(queue.min(),queue.max(),queue.median(),queue.mean())\n",
    "# print(vsteps.min(),vsteps.max(),vsteps.median(),vsteps.mean())\n",
    "\n",
    "# print(queue.var(),queue.std(),queue.mode(),queue.integrate())\n",
    "# print(vsteps.var(),vsteps.std(),vsteps.mode(),vsteps.integrate())\n",
    "\n",
    "#print(vs_clip(pd.Timestamp(2020,12,10)))\n",
    "#print(vsteps(pd.Timestamp(2020,12,10)))\n",
    "#vsteps(pd.Timestamp(2019,1,1))"
   ]
  },
  {
   "cell_type": "code",
   "execution_count": null,
   "metadata": {},
   "outputs": [],
   "source": [
    "p = np.arange(pd.Timestamp(2020,1,1), pd.Timestamp(2020,12,30), pd.Timedelta(hours=1)).astype(pd.Timestamp)\n",
    "#t = np.asarray(list(map(Utils.get_ts, p)))"
   ]
  },
  {
   "cell_type": "code",
   "execution_count": null,
   "metadata": {},
   "outputs": [],
   "source": []
  },
  {
   "cell_type": "code",
   "execution_count": null,
   "metadata": {},
   "outputs": [],
   "source": [
    "%%timeit -r 3 -n 3\n",
    "x = vsteps.step(p)"
   ]
  },
  {
   "cell_type": "code",
   "execution_count": null,
   "metadata": {},
   "outputs": [],
   "source": [
    "%%timeit -r 3 -n 3\n",
    "t = np.asarray(list(map(Utils.get_ts, p)))\n",
    "x = np.asarray(fb.fast_steps().base(vsteps.steps(),t,1))\n",
    "#x = fb.fast_steps().base(vsteps.steps(),p,1)\n",
    "#fig,ax = plt.subplots(figsize=(20,16))\n",
    "#ax.step(p,x)"
   ]
  },
  {
   "cell_type": "code",
   "execution_count": null,
   "metadata": {},
   "outputs": [],
   "source": []
  },
  {
   "cell_type": "code",
   "execution_count": null,
   "metadata": {},
   "outputs": [],
   "source": [
    "%%timeit -r 3 -n 3\n",
    "st = np.array([[s._start_ts,s._direction,s._weight] for s in vsteps],dtype=float)\n",
    "t = np.asarray(list(map(Utils.get_ts, p)))\n",
    "x = np.asarray(fb.fast_steps_heaviside().step(st,t,1))"
   ]
  },
  {
   "cell_type": "code",
   "execution_count": null,
   "metadata": {},
   "outputs": [],
   "source": [
    "fig,ax = plt.subplots(figsize=(20,16))\n",
    "t = np.asarray(list(map(Utils.get_ts, p)))\n",
    "x = np.asarray(fb.fast_steps2().step(st,t,1))\n",
    "ax.step(p,x)"
   ]
  },
  {
   "cell_type": "code",
   "execution_count": null,
   "metadata": {},
   "outputs": [],
   "source": [
    "%%timeit -r 3 -n 3\n",
    "vsteps.step(p)"
   ]
  },
  {
   "cell_type": "code",
   "execution_count": null,
   "metadata": {},
   "outputs": [],
   "source": [
    "%%timeit -r 3 -n 3\n",
    "queue(p)"
   ]
  },
  {
   "cell_type": "code",
   "execution_count": null,
   "metadata": {},
   "outputs": [],
   "source": [
    "from itertools import groupby\n",
    "\n",
    "new_steps = []\n",
    "            \n",
    "all_keys = [s.start() for s in vc.steps()]\n",
    "all_values = vc.step(all_keys)\n",
    "\n",
    "mask = np.where(all_values != 0 , True,False)\n",
    "\n",
    "groups = [(group[0],group[-1]) for group in (list(group) for key, group in groupby(range(len(mask)), key=mask.__getitem__) if key)]\n",
    "\n",
    "groups\n",
    "#for g in groups:\n",
    "\n",
    "    # s = g[0]\n",
    "    # e = g[-1]\n",
    "\n",
    "    # if s == 0 and e == len(self._steps)-1:\n",
    "    #     return new_instance.add([Step(start=self._start,end=self._end)])\n",
    "\n",
    "    # if s != e:\n",
    "    #     new_steps.append(Step(start=self._steps[s].start(), end=self._steps[e].start()))"
   ]
  },
  {
   "cell_type": "code",
   "execution_count": null,
   "metadata": {},
   "outputs": [],
   "source": [
    "\n",
    "all_keys = [s.start() for s in self._steps]\n",
    "all_values = self.step(all_keys)\n",
    "\n",
    "mask = np.where(op_func(all_values,other), True,False)\n",
    "\n",
    "groups = [(group[0],group[-1]) for group in (list(group) for key, group in groupby(range(len(mask)), key=mask.__getitem__) if key)]\n"
   ]
  },
  {
   "cell_type": "code",
   "execution_count": null,
   "metadata": {},
   "outputs": [],
   "source": [
    "p = np.arange(pd.Timestamp(2020,1,1), pd.Timestamp(2020,1,7), pd.Timedelta(minutes=1)).astype(pd.Timestamp)\n",
    "\n",
    "fig,ax = plt.subplots(nrows=3,figsize=(20,16))\n",
    "\n",
    "fstep = vsteps.step(p)\n",
    "ax[1].step(p,fstep,where='post')\n",
    "\n",
    "\n",
    "low_steps = (vsteps ==11)\n",
    "#ax0 = ax[0].twinx()\n",
    "low_steps.plot(ax=ax[0],color='r')\n",
    "low_steps.smooth_plot(ax=ax[0],color='g')\n",
    "\n",
    "#vsteps.histogram_plot(ax=ax[1],kind='bar')\n",
    "\n",
    "#queue.hist().plot(ax=ax[1])\n"
   ]
  },
  {
   "cell_type": "code",
   "execution_count": null,
   "metadata": {},
   "outputs": [],
   "source": [
    "\n",
    "#mbase = np.frompyfunc(mybase2,1,1)\n",
    "tbase = Basis(Basis.sigmoid,5)\n",
    "\n",
    "\n",
    "x = Step(3.75)\n",
    "y = Step(5.6,6)\n",
    "y2 = Step(8.2,8.8)\n",
    "y3 = Step(9.2,9.8)\n",
    "\n",
    "#y3.rebase()\n",
    "z = Step(7.2)\n",
    "q = Step(12)\n",
    "\n",
    "p = Step(9,weight=-1)\n",
    "p1 = Step(9.5,weight=-1)\n",
    "\n",
    "ss1 = Steps()\n",
    "ss1 = ss1.add([z,x,y])\n",
    "\n",
    "ss2 = Steps()\n",
    "ss2 = ss2.add([q,x,p])\n",
    "\n",
    "s1 = sc.Stairs()\n",
    "s1.layer(4)\n",
    "s1.layer(5,6)\n",
    "s1.layer(4)\n",
    "s1.layer(7)\n",
    "s1.layer(12)\n",
    "s1.layer(9,value=-1)\n",
    "\n",
    "ss3 = Steps().add([Step(4),Step(4),Step(5,6),Step(7),Step(12),Step(9,weight=-1)])\n",
    "\n",
    "#ss3 = ss2 + ss1\n",
    "ss4 = ss3+y2 + 3\n",
    "\n",
    "ss5 = Steps().add([y2,y3])\n",
    "\n",
    "#print(list(ss3._cummulative.values()))\n",
    "#print(list(ss3._cummulative.keys()))\n",
    "yy = y3+y3-y2\n",
    "#ss4.rebase(tbase)\n",
    "    \n",
    "p = np.arange(2,13,0.01)\n",
    "\n",
    "fig,ax = plt.subplots(nrows=6,figsize=(18,14))\n",
    "\n",
    "ax[0].fill_between(p,ss1.step(p),step='post',alpha=0.3)\n",
    "ax[1].step(p,ss2.step(p))\n",
    "ax[2].step(p,ss3.step(p))\n",
    "s1.plot(ax[2],color='r')\n",
    "ax[3].step(p,ss4.step(p))\n",
    "ax[3].fill_between(p,(ss4 > 4).step(p),color='r',step='post',alpha=0.3)\n",
    "ax[5].step(p,ss5.step(p))\n",
    "#ax[5].step(p,yy.step(p))\n",
    "\n"
   ]
  },
  {
   "cell_type": "code",
   "execution_count": null,
   "metadata": {},
   "outputs": [],
   "source": [
    "fig, ax = plt.subplots(figsize=(16,8))\n",
    "\n",
    "ax.step(p,ss1.step(p),label = \"s1\")\n",
    "ax.step(p,ss2.step(p),label = \"s2\", linestyle=\"--\", linewidth=3)\n",
    "ax.step(p,ss3.step(p),label = \"s3\", linestyle=\"-\", linewidth=2)\n",
    "ax.legend()\n"
   ]
  },
  {
   "cell_type": "code",
   "execution_count": null,
   "metadata": {},
   "outputs": [],
   "source": []
  }
 ],
 "metadata": {
  "kernelspec": {
   "name": "python3",
   "display_name": "Python 3",
   "language": "python"
  },
  "language_info": {
   "codemirror_mode": {
    "name": "ipython",
    "version": 3
   },
   "file_extension": ".py",
   "mimetype": "text/x-python",
   "name": "python",
   "nbconvert_exporter": "python",
   "pygments_lexer": "ipython3",
   "version": "3.8.5-final"
  }
 },
 "nbformat": 4,
 "nbformat_minor": 4
}