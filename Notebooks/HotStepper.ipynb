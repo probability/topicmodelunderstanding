{
 "cells": [
  {
   "cell_type": "code",
   "execution_count": 1,
   "metadata": {},
   "outputs": [],
   "source": [
    "import matplotlib.pyplot as plt\n",
    "import numpy as np\n",
    "import pandas as pd\n",
    "from imports import *\n",
    "from datetime import datetime, timedelta\n",
    "import staircase as sc\n",
    "%matplotlib inline\n",
    "\n",
    "import warnings\n",
    "warnings.filterwarnings(\"ignore\")\n"
   ]
  },
  {
   "cell_type": "code",
   "execution_count": 2,
   "metadata": {},
   "outputs": [],
   "source": [
    "df = pd.read_csv(r\"..//data/vessel_queue.csv\", parse_dates=['enter', 'leave'], dayfirst=True)\n",
    "\n",
    "#vsteps = Steps.read_dataframe(df,'enter','leave')\n",
    "#queue = sc.Stairs(use_dates=True).layer(df.enter, df.leave)\n"
   ]
  },
  {
   "cell_type": "code",
   "execution_count": 4,
   "metadata": {},
   "outputs": [
    {
     "output_type": "stream",
     "name": "stdout",
     "text": [
      "5.66 ms ± 184 µs per loop (mean ± std. dev. of 10 runs, 10 loops each)\n"
     ]
    }
   ],
   "source": [
    "%%timeit -r 10 -n 10\n",
    "queue = sc.Stairs(use_dates=True).layer(df.enter, df.leave)"
   ]
  },
  {
   "cell_type": "code",
   "execution_count": null,
   "metadata": {},
   "outputs": [],
   "source": [
    "#tbase = Basis(Basis.tanh,52416)\n",
    "\n",
    "p = np.arange(pd.Timestamp(2020,1,31), pd.Timestamp(2020,2,4), pd.Timedelta(minutes=1)).astype(pd.Timestamp)\n",
    "#px = [x.timestamp() for x in p]\n",
    "fig,ax = plt.subplots(nrows=4,figsize=(20,12))\n",
    "\n",
    "#vsteps.clip(lbound=pd.Timestamp(2020,2,1),ubound=pd.Timestamp(2020,2,3)).plot(ax=ax[0])\n",
    "v_ul_clip = vsteps.clip(lbound=pd.Timestamp(2020,2,1),ubound=pd.Timestamp(2020,2,10))\n",
    "v_ul_clip.plot(ax=ax[0])\n",
    "(v_ul_clip>=10).plot(ax=ax[0],color='blue')\n",
    "# v_ul_clip.smooth_plot(ax=ax[0],color='g')\n",
    "#v_ul_clip.smooth_plot(ax=ax[0],color='g')\n",
    "#(v_ul_clip).smooth_plot(ax=ax[0],color='r')\n",
    "\n",
    "#first_step_full = (vsteps.steps())[0]\n",
    "#(v_ul_clip.steps())[0].plot(ax=ax[0],color='blue')\n",
    "#ax[0].step(p,first_step(p),color='blue')\n",
    "#ax[0].step(p,(v_ul_clip<<timedelta(minutes=660))(p),color='g')\n",
    "\n",
    "#queue.clip(lower=pd.Timestamp(2020,2,1),upper=pd.Timestamp(2020,3,1)).plot(ax[0])\n",
    "\n",
    "queue.clip(upper=pd.Timestamp(2020,1,12)).plot(ax[1])\n",
    "vclip2 = vsteps.clip(ubound=pd.Timestamp(2020,1,12))\n",
    "vclip2.plot(ax=ax[1])\n",
    "vclip2.plot(ax=ax[1],method='experiment',color='g',smooth_factor=100000)\n",
    "\n",
    "\n",
    "vsteps.clip(lbound=pd.Timestamp(2020,2,1)).plot(ax=ax[2])\n",
    "queue.clip(lower=pd.Timestamp(2020,2,1)).plot(ax[2])\n",
    "\n",
    "vsteps.plot(ax=ax[3])\n",
    "#(vsteps).smooth_plot(ax=ax[3],color='r')\n",
    "#(vsteps>>pd.Timedelta(hours=11)).plot(method='function',ax=ax[3],color='g')\n",
    "((vsteps>10)).plot(ax=ax[3],color='g')\n",
    "#+Step(weight=10,use_datetime=True)\n",
    "#print((v_ul_clip<<timedelta(minutes=660))(datetime(2020,2,1,6,0)))\n",
    "#ax[2].step(np.arange(len(vsteps[pd.Timestamp(2020,1,1):pd.Timestamp(2020,1,2):pd.Timedelta(minutes=10)])),vsteps[pd.Timestamp(2020,1,1):pd.Timestamp(2020,1,2):pd.Timedelta(minutes=10)])\n",
    "\n",
    "# print(queue.clip(lower=pd.Timestamp(2020,2,1),upper=pd.Timestamp(2020,3,1)).mean())\n",
    "# print((vsteps.clip(lbound=pd.Timestamp(2020,2,1),ubound=pd.Timestamp(2020,3,1))).mean())\n",
    "\n",
    "# print(queue.clip(upper=pd.Timestamp(2020,3,1)).mean())\n",
    "# print((vsteps.clip(ubound=pd.Timestamp(2020,3,1))).mean())\n",
    "\n",
    "# print(queue.clip(lower=pd.Timestamp(2020,2,1)).mean())\n",
    "# print(vsteps.clip(lbound=pd.Timestamp(2020,2,1)).mean())\n"
   ]
  },
  {
   "cell_type": "code",
   "execution_count": null,
   "metadata": {},
   "outputs": [],
   "source": [
    "n = datetime.now()\n",
    "n"
   ]
  },
  {
   "cell_type": "code",
   "execution_count": null,
   "metadata": {},
   "outputs": [],
   "source": [
    "v_ul_clip_dict = v_ul_clip.to_dict(False)\n",
    "fkey = v_ul_clip_dict.keys()[0]\n",
    "fkey_utc = fkey.tz_localize('UTC')\n",
    "print(fkey_utc)\n",
    "print(pd.Timestamp.utcfromtimestamp(fkey.timestamp()))\n",
    "print(fkey)\n",
    "print(v_ul_clip.steps()[0])"
   ]
  },
  {
   "cell_type": "code",
   "execution_count": null,
   "metadata": {},
   "outputs": [],
   "source": [
    "\n",
    "#mbase = np.frompyfunc(mybase2,1,1)\n",
    "tbase = Basis(Basis.sigmoid,5)\n",
    "\n",
    "\n",
    "x = Step(3.75)\n",
    "y = Step(5.6,6)\n",
    "y2 = Step(8.2,8.8)\n",
    "y3 = Step(9.2,9.8)\n",
    "\n",
    "#y3.rebase()\n",
    "z = Step(7.2)\n",
    "q = Step(12)\n",
    "\n",
    "p = Step(9,weight=-1)\n",
    "p1 = Step(9.5,weight=-1)\n",
    "\n",
    "ss1 = Steps()\n",
    "ss1 = ss1.add([z,x,y])\n",
    "\n",
    "ss2 = Steps()\n",
    "ss2 = ss2.add([q,x,p])\n",
    "\n",
    "s1 = sc.Stairs()\n",
    "s1.layer(4)\n",
    "s1.layer(5,6)\n",
    "s1.layer(4)\n",
    "s1.layer(7)\n",
    "s1.layer(12)\n",
    "s1.layer(9,value=-1)\n",
    "\n",
    "ss3 = Steps().add([Step(4),Step(4),Step(5,6),Step(7),Step(12),Step(9,weight=-1)])\n",
    "\n",
    "y4 = y2 << 0.3\n",
    "ss3 = ss2 + ss1\n",
    "ss4 = ss3+y2\n",
    "ss4 += y3\n",
    "\n",
    "ss5 = Steps().add([y2,y3])\n",
    "\n",
    "yy =  y+y2+y3 + y4\n",
    "#yy -=ss2\n",
    "#yy.rebase(Basis(Basis.logit))\n",
    "#ss4.rebase(tbase)\n",
    "    \n",
    "p = np.arange(2,13,0.01)\n",
    "\n",
    "fig,ax = plt.subplots(nrows=6,figsize=(18,14))\n",
    "\n",
    "ax[0].step(p,ss1[p])\n",
    "ax[1].step(p,(ss2-yy-yy).step(p))\n",
    "ax[2].step(p,ss3.step(p))\n",
    "#s1.plot(ax[2],color='r')\n",
    "ax[3].step(p,(ss4+ss3).step(p))\n",
    "#ax[3].step(p,(ss4 > 0).step(p))\n",
    "#ax[3].step(p,(ss4 > 2).step_function(p),color='r')\n",
    "#ax[5].step(p,ss5.step_function(p))\n",
    "#ax[5].step(p,(y4 << 4).step(p))\n",
    "#ax[5].step(p,y4[p])\n",
    "ax[5].step(p,yy.step(p))\n",
    "ax[5].step(p,(yy-y4).step(p))\n",
    "\n",
    "ax[4].step(p,y3.reflect().step(p))\n",
    "#print(y4[10:13:0.2])\n",
    "#print((y4)[10])"
   ]
  },
  {
   "cell_type": "code",
   "execution_count": null,
   "metadata": {},
   "outputs": [],
   "source": [
    "import altair as alt\n",
    "\n",
    "def createplot(smooth=True):    \n",
    "    if smooth:\n",
    "        source = pd.DataFrame({\"x\": p, \"y\": ss4.smooth_step(p,0.0005)})\n",
    "\n",
    "        aplot = alt.Chart(source).mark_line(interpolate='step-before').encode(\n",
    "            x='x',\n",
    "            y='y',\n",
    "            color=alt.value('red')\n",
    "        )\n",
    "        return aplot\n",
    "    else:\n",
    "        source = pd.DataFrame({\"x\": p, \"y\": ss4.step(p)})\n",
    "\n",
    "        aplot = alt.Chart(source).mark_line(interpolate='step-before').encode(\n",
    "            x='x',\n",
    "            y='y',\n",
    "            color=alt.value('blue')\n",
    "        )\n",
    "        return aplot        \n",
    "    \n",
    "\n",
    "\n",
    "smooth_steps = createplot()\n",
    "steps = createplot(False)\n",
    "\n",
    "alt.layer(\n",
    "    smooth_steps,\n",
    "    steps\n",
    ").resolve_scale(color='independent').properties(width=1000,height=300).interactive()\n",
    "\n",
    "#(smooth_steps + steps).properties(width=1000,height=300).interactive()"
   ]
  },
  {
   "cell_type": "code",
   "execution_count": null,
   "metadata": {},
   "outputs": [],
   "source": [
    "\n",
    "\n",
    "fig, ax = plt.subplots(figsize=(16,8))\n",
    "\n",
    "plt.step(p,ss1.step(p),label = \"s1\")\n",
    "plt.step(p,ss2.step(p),label = \"s2\", linestyle=\"--\", linewidth=3)\n",
    "plt.step(p,ss3.step(p),label = \"s3\", linestyle=\"-\", linewidth=2)\n",
    "ax.legend()\n",
    "plt.show()\n"
   ]
  },
  {
   "cell_type": "code",
   "execution_count": null,
   "metadata": {},
   "outputs": [],
   "source": [
    "k = np.arange(1,5,None)\n",
    "k"
   ]
  },
  {
   "cell_type": "code",
   "execution_count": null,
   "metadata": {},
   "outputs": [],
   "source": [
    "x = Step(pd.Timestamp(2020,1,1,15,12))\n",
    "y = Step(pd.Timestamp(2020,1,1,11,1))\n",
    "z = Step(pd.Timestamp(2020,1,1,9,25))\n",
    "\n",
    "na = np.array([x,y,z])\n",
    "na"
   ]
  },
  {
   "cell_type": "code",
   "execution_count": null,
   "metadata": {},
   "outputs": [],
   "source": [
    "fna = na[np.where(na > pd.Timestamp(2020,1,1,10))]\n",
    "fna"
   ]
  },
  {
   "cell_type": "code",
   "execution_count": null,
   "metadata": {},
   "outputs": [],
   "source": [
    "fig, ax = plt.subplots(figsize=(16,8))\n",
    "\n",
    "p = np.arange(-2,5,0.5)\n",
    "\n",
    "x = np.array([p]*3)\n",
    "w = np.ones(3)\n",
    "s = np.array([0.5,1,1.5])\n",
    "#n = np.subtract(x,s)\n",
    "plt.step(p,np.dot(np.heaviside(x.transpose() - s,1),w))\n"
   ]
  },
  {
   "cell_type": "code",
   "execution_count": null,
   "metadata": {},
   "outputs": [],
   "source": [
    "p = np.arange(pd.Timestamp(2020,1,1,11), pd.Timestamp(2020,2,1), pd.Timedelta(minutes=1)).astype(pd.Timestamp)\n",
    "pf = np.array([t.timestamp() for t in p])\n",
    "pf[int(len(pf)/1.2)]"
   ]
  },
  {
   "cell_type": "code",
   "execution_count": null,
   "metadata": {},
   "outputs": [],
   "source": [
    "s = [1579156200.0,1579596000.0,1580035800.0]\n",
    "\n",
    "f = np.where(pf >= 1579156200.0, 1,0)\n",
    "f = np.where(pf >= 1579156200.0, 1,0)\n",
    "f2 = np.where(pf >= 1579596000.0, 1,0)\n",
    "f3 = np.where(pf >= 1580035800.0, 1,0)"
   ]
  },
  {
   "cell_type": "code",
   "execution_count": null,
   "metadata": {},
   "outputs": [],
   "source": [
    "fig, ax = plt.subplots(figsize=(16,8))\n",
    "plt.step(p,np.sum([f,f2,f3],axis=0))"
   ]
  },
  {
   "cell_type": "code",
   "execution_count": null,
   "metadata": {},
   "outputs": [],
   "source": [
    "import cupy as cp\n",
    "x = cp.arange(6).reshape(2, 3).astype('f')\n",
    "\n",
    "x.sum(axis=1)"
   ]
  },
  {
   "cell_type": "code",
   "execution_count": null,
   "metadata": {},
   "outputs": [],
   "source": [
    "#[2, 3, 1, 2, 1, 2]\n",
    "#[3.75, 5.6, 6, 7.2, 9, 12]\n",
    "\n",
    "s1 = sc.Stairs()\n",
    "s1.layer(4)\n",
    "s1.layer(4)\n",
    "s1.layer(5,6)\n",
    "s1.layer(7)\n",
    "s1.layer(12)\n",
    "s1.layer(9,value=-1)\n",
    "\n",
    "ss3 = Steps().add([Step(4),Step(4),Step(5,6),Step(7),Step(12),Step(9,weight=-1)])\n",
    "\n",
    "s = Step(4,weight=2)\n",
    "tbase = Basis(Basis.logit,1)\n",
    "ss3.rebase()\n",
    "#print(s.integrate(10,0))\n",
    "print(Analysis.mean_integrate2(ss3))\n",
    "#print(list(ss3._cummulative.keys()))\n",
    "\n",
    "print(s1.integrate())"
   ]
  },
  {
   "cell_type": "code",
   "execution_count": null,
   "metadata": {},
   "outputs": [],
   "source": [
    "# widths = np.subtract(cumulative.keys()[2:], cumulative.keys()[1:-1])\n",
    "# heights = cumulative.values()[1:-1]\n",
    "# area = np.multiply(widths, heights).sum()\n",
    "\n",
    "# dd = vsteps._steps\n",
    "# dcs = vsteps._cumsum\n",
    "# ddk = [d.start_ts for d in dd]\n",
    "# #ddv = [d. for d in dd]\n",
    "\n",
    "# delta = np.subtract(ddk[2:],ddk[1:-1])\n",
    "\n",
    "# #print(delta)\n",
    "# #print(dcs)\n",
    "# np.dot(dcs[1:-1],delta)/3600\n",
    "\n",
    "vsteps.percentile(35)"
   ]
  },
  {
   "cell_type": "code",
   "execution_count": null,
   "metadata": {},
   "outputs": [],
   "source": [
    "queue = sc.Stairs(use_dates=True).layer(df.enter, df.leave)\n",
    "queue.percentile(35)"
   ]
  },
  {
   "cell_type": "code",
   "execution_count": null,
   "metadata": {},
   "outputs": [],
   "source": []
  }
 ],
 "metadata": {
  "kernelspec": {
   "display_name": "Python 3",
   "language": "python",
   "name": "python3"
  },
  "language_info": {
   "codemirror_mode": {
    "name": "ipython",
    "version": 3
   },
   "file_extension": ".py",
   "mimetype": "text/x-python",
   "name": "python",
   "nbconvert_exporter": "python",
   "pygments_lexer": "ipython3",
   "version": "3.8.2-final"
  }
 },
 "nbformat": 4,
 "nbformat_minor": 4
}