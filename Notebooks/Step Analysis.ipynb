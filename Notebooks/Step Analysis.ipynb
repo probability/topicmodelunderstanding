{
 "metadata": {
  "language_info": {
   "codemirror_mode": {
    "name": "ipython",
    "version": 3
   },
   "file_extension": ".py",
   "mimetype": "text/x-python",
   "name": "python",
   "nbconvert_exporter": "python",
   "pygments_lexer": "ipython3",
   "version": "3.8.5-final"
  },
  "orig_nbformat": 2,
  "kernelspec": {
   "name": "python3",
   "display_name": "Python 3",
   "language": "python"
  }
 },
 "nbformat": 4,
 "nbformat_minor": 2,
 "cells": [
  {
   "cell_type": "code",
   "execution_count": 1,
   "metadata": {},
   "outputs": [],
   "source": [
    "import staircase as sc\n",
    "from imports import *\n",
    "from datetime import datetime,timedelta\n",
    "%matplotlib inline\n",
    "import operator\n",
    "import warnings\n",
    "warnings.filterwarnings(\"ignore\")\n"
   ]
  },
  {
   "cell_type": "code",
   "execution_count": 2,
   "metadata": {},
   "outputs": [
    {
     "output_type": "execute_result",
     "data": {
      "text/plain": [
       "(947, 3)"
      ]
     },
     "metadata": {},
     "execution_count": 2
    }
   ],
   "source": [
    "df = pd.read_csv(r\"../data/page_views.csv\")\n",
    "\n",
    "vsteps = Steps.read_dataframe(df,'start','ends')\n",
    "\n",
    "df.shape"
   ]
  },
  {
   "cell_type": "code",
   "execution_count": null,
   "metadata": {},
   "outputs": [],
   "source": [
    "p = np.arange(pd.Timestamp(2020,1,1), pd.Timestamp(2020,12,30), pd.Timedelta(hours=1)).astype(pd.Timestamp)\n",
    "fig,ax = plt.subplots(nrows=9,figsize=(28,20))\n",
    "\n",
    "st,se,span = vsteps.span()\n",
    "\n",
    "#error here, this isn't the same as Step() - Step(start=st+0.5*span,weight=2)\n",
    "haar0 = Step(end=st+0.5*span)\n",
    "haar00 = Step(end=st+0.5*span,weight=1) - Step(start=st+0.5*span,weight=2)\n",
    "\n",
    "haar = Step() - Step(start=st+0.5*span,weight=2)\n",
    "\n",
    "#print(haar0,'| - |',haar)\n",
    "#vsteps.rebase(tbase)\n",
    "vs_clip = vsteps.clip(500,550)\n",
    "\n",
    "vsteps.plot(ax=ax[0])\n",
    "vsteps.smooth_plot(ax=ax[0],color='g')\n",
    "\n",
    "queue = sc.Stairs().layer(df.start, df.ends)\n",
    "queue.plot(ax[1])\n",
    "\n",
    "(vsteps>7).plot(ax=ax[1],color='r')\n",
    "\n",
    "\n",
    "vs_clip.plot(ax=ax[2])\n",
    "vs_clip.smooth_plot(ax=ax[2],color='g')\n",
    "vs_clip.normalise().plot(ax=ax[2],color='r')\n",
    "\n",
    "#vs_clip._operate_norm_new(0,operator.ne).plot(ax=ax[2],color='r')\n",
    "# vsteps.histogram_plot(ax=ax[6],kind='bar')\n",
    "# xx = vsteps.pacf_plot(10,ax=ax[3],kind='bar')\n",
    "# xx.axhline(0,c='black',linestyle=':')\n",
    "# vsteps.ecdf_plot(ax=ax[4],kind='bar')\n",
    "\n",
    "(vs_clip>7).plot(ax=ax[3])\n",
    "(vs_clip>7).normalise().plot(ax=ax[3],color='r')\n",
    "\n",
    "vs_clip.plot(ax=ax[4])\n",
    "(vs_clip>7).plot(ax=ax[4],color='r')\n",
    "#vs_clip._operate_value_new(7,operator.gt).plot(ax=ax[4],color='g')\n",
    "\n",
    "vs_clip.plot(ax=ax[5])\n",
    "(vs_clip>7).plot(ax=ax[5],color='r')\n",
    "t = np.arange(-100.0,1500.0,0.1)\n",
    "t2 = np.arange(490.0,520.0,0.1)\n",
    "\n",
    "(vsteps*haar).plot(ax=ax[7])\n",
    "(vsteps*haar).smooth_plot(ax=ax[7],color='g',ts_grain=0.5,smooth_factor=15)\n",
    "\n",
    "axx = vs_clip.plot()\n",
    "(vs_clip>7).plot(ax=axx,color='r')\n",
    "#vs_clip..plot(ax=axx,color='g')"
   ]
  },
  {
   "cell_type": "code",
   "execution_count": null,
   "metadata": {},
   "outputs": [],
   "source": [
    "\n",
    "from itertools import groupby\n",
    "\n",
    "vclip7 = (vs_clip>7)\n",
    "\n",
    "all_keys = [s.start() for s in vclip7.steps()]\n",
    "all_values = vclip7.step(all_keys)\n",
    "\n",
    "mask = np.where(all_values > 7, True,False)\n",
    "\n",
    "groups = [(group[0],group[-1]) for group in (list(group) for key, group in groupby(range(len(mask)), key=mask.__getitem__) if key)]\n",
    "vclip7.steps()[41]"
   ]
  },
  {
   "cell_type": "code",
   "execution_count": null,
   "metadata": {},
   "outputs": [],
   "source": [
    "h = Step(900)\n",
    "h2 = Step(820)\n",
    "h3 = Step(end=800)\n",
    "ss = Step(850,950)\n",
    "\n",
    "ax = h.plot()\n",
    "h2.plot(ax=ax,color='g')\n",
    "h3.plot(ax=ax,color='blue',linestyle=':')\n",
    "ss.plot(ax=ax,color='r')\n"
   ]
  },
  {
   "cell_type": "code",
   "execution_count": null,
   "metadata": {},
   "outputs": [],
   "source": [
    "dat = [900,920,930]\n",
    "ss(dat)"
   ]
  },
  {
   "cell_type": "code",
   "execution_count": null,
   "metadata": {},
   "outputs": [],
   "source": []
  }
 ]
}