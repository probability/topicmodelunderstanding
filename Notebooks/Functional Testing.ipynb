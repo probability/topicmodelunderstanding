{
 "metadata": {
  "language_info": {
   "codemirror_mode": {
    "name": "ipython",
    "version": 3
   },
   "file_extension": ".py",
   "mimetype": "text/x-python",
   "name": "python",
   "nbconvert_exporter": "python",
   "pygments_lexer": "ipython3",
   "version": "3.8.5-final"
  },
  "orig_nbformat": 2,
  "kernelspec": {
   "name": "python3",
   "display_name": "Python 3",
   "language": "python"
  }
 },
 "nbformat": 4,
 "nbformat_minor": 2,
 "cells": [
  {
   "cell_type": "code",
   "execution_count": 2,
   "metadata": {},
   "outputs": [
    {
     "output_type": "stream",
     "name": "stderr",
     "text": [
      "C:\\Anaconda3\\lib\\site-packages\\cupy\\_environment.py:265: ResourceWarning: unclosed file <_io.TextIOWrapper name='C:\\\\Anaconda3\\\\lib\\\\site-packages\\\\cupy\\\\.data\\\\_wheel.json' mode='r' encoding='cp1252'>\n  _preload_config = json.load(open(config_path))\nResourceWarning: Enable tracemalloc to get the object allocation traceback\n"
     ]
    }
   ],
   "source": [
    "import staircase as sc\n",
    "from imports import *\n"
   ]
  },
  {
   "cell_type": "code",
   "execution_count": null,
   "metadata": {},
   "outputs": [],
   "source": [
    "x = Step(3.75)\n",
    "y = Step(5.6,6)\n",
    "y2 = Step(8.2,8.8)\n",
    "y3 = Step(9.2,9.8)\n",
    "\n",
    "z = Step(7.2)\n",
    "q = Step(12)\n",
    "\n",
    "p = Step(9,weight=-1)\n",
    "p1 = Step(9.5,weight=-1)\n",
    "\n",
    "ss1 = Steps().add([z,x,y])\n",
    "\n",
    "ss2 = Steps()\n",
    "ss2 = ss2.add([q,x,p])\n",
    "\n",
    "\n",
    "ss3 = Steps().add([Step(4),Step(4),Step(5,6),Step(7),Step(12),Step(9,weight=-1)])\n",
    "\n",
    "ss4 = ss3+y2 + 3\n",
    "\n",
    "ss5 = Steps().add([y2,y3])\n",
    "yy = y3+y3-y2\n",
    "    \n",
    "p = np.arange(2,13,0.01)\n",
    "\n",
    "fig,ax = plt.subplots(nrows=6,figsize=(18,14))\n",
    "\n",
    "ax[0].step(p,ss1.step(p))\n",
    "ax[1].step(p,ss2.step(p))\n",
    "ax[2].step(p,ss3.step(p))\n",
    "ax[3].step(p,ss4.step(p))\n",
    "ax[3].step(p,(ss4 > 5).step(p),color='r')\n",
    "ax[5].step(p,ss5.step(p))\n"
   ]
  },
  {
   "cell_type": "code",
   "execution_count": null,
   "metadata": {},
   "outputs": [],
   "source": [
    "for s in (ss4 > 5):\n",
    "    s.plot()"
   ]
  },
  {
   "cell_type": "code",
   "execution_count": 9,
   "metadata": {},
   "outputs": [
    {
     "output_type": "execute_result",
     "data": {
      "text/plain": [
       "[(2, 3), (6, 8), (11, 14)]"
      ]
     },
     "metadata": {},
     "execution_count": 9
    }
   ],
   "source": [
    "\n",
    "from itertools import groupby\n",
    "#from operator import itemgetter\n",
    "\n",
    "x = np.array([1,2,3,4,1,2,3,4,5,1,2,3,6,7,8])\n",
    "k = np.where(x> 2,True,False)\n",
    "\n",
    "[(group[0],group[-1]) for group in (list(group) for key, group in groupby(range(len(k)), key=k.__getitem__) if key)]\n"
   ]
  },
  {
   "cell_type": "code",
   "execution_count": null,
   "metadata": {},
   "outputs": [],
   "source": []
  }
 ]
}