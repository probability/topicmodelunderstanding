{
 "metadata": {
  "language_info": {
   "codemirror_mode": {
    "name": "ipython",
    "version": 3
   },
   "file_extension": ".py",
   "mimetype": "text/x-python",
   "name": "python",
   "nbconvert_exporter": "python",
   "pygments_lexer": "ipython3",
   "version": "3.8.5-final"
  },
  "orig_nbformat": 2,
  "kernelspec": {
   "name": "python3",
   "display_name": "Python 3",
   "language": "python"
  }
 },
 "nbformat": 4,
 "nbformat_minor": 2,
 "cells": [
  {
   "cell_type": "code",
   "execution_count": 1,
   "metadata": {},
   "outputs": [],
   "source": [
    "from imports import *\n",
    "import staircase as sc\n",
    "%matplotlib inline\n",
    "import operator\n",
    "import warnings\n",
    "from hotstepper.Utils import Utils\n",
    "import hotstepper.fastbase as fb\n",
    "warnings.filterwarnings(\"ignore\")"
   ]
  },
  {
   "cell_type": "code",
   "execution_count": 2,
   "metadata": {},
   "outputs": [
    {
     "output_type": "execute_result",
     "data": {
      "text/plain": [
       "(13602, 6)"
      ]
     },
     "metadata": {},
     "execution_count": 2
    }
   ],
   "source": [
    "df = pd.read_csv(r\"../data/hotel_stays.csv\", parse_dates=['check_in', 'check_out'], dayfirst=True)\n",
    "\n",
    "#df = df_cc.loc[df_cc.call_type == 'Type 1']\n",
    "\n",
    "df.shape"
   ]
  },
  {
   "cell_type": "code",
   "execution_count": 3,
   "metadata": {
    "tags": []
   },
   "outputs": [],
   "source": [
    "#%%timeit -r 3 -n 3\n",
    "hotel_stays = Steps.read_dataframe(df,'check_in', 'check_out')\n",
    "#aborted_type1 = Steps.read_dataframe(df,'arrived','aborted')\n",
    "#duration_type1 = Steps.read_dataframe(df,'answered','complete')"
   ]
  },
  {
   "cell_type": "code",
   "execution_count": 4,
   "metadata": {},
   "outputs": [],
   "source": [
    "queue = sc.Stairs(use_dates=True).layer(df.check_in, df.check_out)"
   ]
  },
  {
   "cell_type": "code",
   "execution_count": null,
   "metadata": {},
   "outputs": [],
   "source": [
    "st = np.array([[s._start_ts,s._direction,s._weight] for s in hotel_stays],dtype=float)\n",
    "p = hotel_stays.step_keys()\n",
    "fig,ax = plt.subplots(figsize=(14,6))\n",
    "t = np.asarray(list(map(Utils.get_ts, p)))\n",
    "x = np.asarray(fb.fast_steps_heaviside().step(st,t,1))\n",
    "#x2 = np.asarray(fb.fast_steps_logit().step(st,t,500000))\n",
    "ax.step(p,x)\n",
    "#ax.step(p,x2,color='r')"
   ]
  },
  {
   "cell_type": "code",
   "execution_count": null,
   "metadata": {},
   "outputs": [],
   "source": [
    "timespan = {'lbound':pd.Timestamp(2020,2,15,10),'ubound':pd.Timestamp(2020,2,16)}\n",
    "ax = hotel_stays.plot(color='g',size=(36,6))\n",
    "hotel125 = (hotel_stays>150)\n",
    "#hotel125.plot(ax=ax,color='r')\n",
    "\n",
    "#ax2 = (hotel_stays>80).plot(color='g')\n",
    "hotel125.normalise().plot(ax=ax.twinx(),color='r')\n",
    "\n",
    "#aborted_type1.plot(ax=ax,color='r')\n",
    "#duration_type1.plot(ax=ax,color='blue')"
   ]
  },
  {
   "cell_type": "code",
   "execution_count": 5,
   "metadata": {},
   "outputs": [],
   "source": [
    "#p = hotel_stays.step_keys()\n",
    "p=np.arange(pd.Timestamp(2016,1,1),pd.Timestamp(2017,1,1),pd.Timedelta(minutes=20)).astype(pd.Timestamp)"
   ]
  },
  {
   "cell_type": "code",
   "execution_count": 7,
   "metadata": {},
   "outputs": [
    {
     "output_type": "stream",
     "name": "stdout",
     "text": [
      "1.43 s ± 16.5 ms per loop (mean ± std. dev. of 3 runs, 3 loops each)\n"
     ]
    }
   ],
   "source": [
    "%%timeit -r 3 -n 3\n",
    "st = np.array([[s._start_ts,s._direction,s._weight] for s in hotel_stays],dtype=float)\n",
    "t = np.asarray(list(map(Utils.get_ts, p)))\n",
    "x = np.asarray(fb.fast_steps_heaviside().step(st,t,1))"
   ]
  },
  {
   "cell_type": "code",
   "execution_count": 8,
   "metadata": {},
   "outputs": [
    {
     "output_type": "stream",
     "name": "stdout",
     "text": [
      "2.06 s ± 45.7 ms per loop (mean ± std. dev. of 3 runs, 3 loops each)\n"
     ]
    }
   ],
   "source": [
    "%%timeit -r 3 -n 3\n",
    "st = np.array([[s._start_ts,s._direction,s._weight] for s in hotel_stays],dtype=float)\n",
    "t = np.asarray(list(map(Utils.get_ts, p)))\n",
    "x2 = np.asarray(fb.fast_steps_logit().step(st,t,500))"
   ]
  },
  {
   "cell_type": "code",
   "execution_count": 6,
   "metadata": {},
   "outputs": [
    {
     "output_type": "stream",
     "name": "stdout",
     "text": [
      "169 ms ± 4.45 ms per loop (mean ± std. dev. of 3 runs, 3 loops each)\n"
     ]
    }
   ],
   "source": [
    "%%timeit -r 3 -n 3\n",
    "queue(p)"
   ]
  },
  {
   "cell_type": "code",
   "execution_count": null,
   "metadata": {},
   "outputs": [],
   "source": []
  }
 ]
}